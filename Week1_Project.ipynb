{
 "cells": [
  {
   "cell_type": "code",
   "execution_count": 1,
   "id": "a37ad256-5f40-4e35-93f4-6d719850604b",
   "metadata": {},
   "outputs": [
    {
     "name": "stdout",
     "output_type": "stream",
     "text": [
      "🔹 Dataset Info:\n",
      "<class 'pandas.core.frame.DataFrame'>\n",
      "RangeIndex: 10000 entries, 0 to 9999\n",
      "Data columns (total 7 columns):\n",
      " #   Column            Non-Null Count  Dtype  \n",
      "---  ------            --------------  -----  \n",
      " 0   Disaster_ID       10000 non-null  int64  \n",
      " 1   Disaster_Type     10000 non-null  object \n",
      " 2   Location          10000 non-null  object \n",
      " 3   Magnitude         10000 non-null  float64\n",
      " 4   Date              10000 non-null  object \n",
      " 5   Fatalities        10000 non-null  int64  \n",
      " 6   Economic_Loss($)  10000 non-null  float64\n",
      "dtypes: float64(2), int64(2), object(3)\n",
      "memory usage: 547.0+ KB\n",
      "None\n",
      "\n",
      "🔹 Dataset Summary:\n",
      "       Disaster_ID     Magnitude    Fatalities  Economic_Loss($)\n",
      "count  10000.00000  10000.000000  10000.000000      1.000000e+04\n",
      "mean    5000.50000      5.559173   4984.928900      5.049752e+08\n",
      "std     2886.89568      2.619304   2900.114029      2.861325e+08\n",
      "min        1.00000      1.000656      0.000000      1.036597e+06\n",
      "25%     2500.75000      3.263217   2481.750000      2.636352e+08\n",
      "50%     5000.50000      5.589578   4947.000000      5.078407e+08\n",
      "75%     7500.25000      7.829268   7511.250000      7.527256e+08\n",
      "max    10000.00000      9.999671   9999.000000      9.998528e+08\n",
      "\n",
      "🔹 Missing Values:\n",
      "Disaster_ID         0\n",
      "Disaster_Type       0\n",
      "Location            0\n",
      "Magnitude           0\n",
      "Date                0\n",
      "Fatalities          0\n",
      "Economic_Loss($)    0\n",
      "dtype: int64\n"
     ]
    }
   ],
   "source": [
    "# 1. Import libraries\n",
    "import pandas as pd\n",
    "\n",
    "# 2. Load the dataset\n",
    "df = pd.read_csv(r\"C:\\Users\\Lenovo\\natural_disasters_2024.csv\")\n",
    "\n",
    "# 3. Explore the dataset\n",
    "print(\"🔹 Dataset Info:\")\n",
    "print(df.info())\n",
    "\n",
    "print(\"\\n🔹 Dataset Summary:\")\n",
    "print(df.describe())\n",
    "\n",
    "print(\"\\n🔹 Missing Values:\")\n",
    "print(df.isnull().sum())"
   ]
  },
  {
   "cell_type": "code",
   "execution_count": null,
   "id": "e50a8d5f-0d33-4d94-a312-c803176b6bc4",
   "metadata": {},
   "outputs": [],
   "source": []
  }
 ],
 "metadata": {
  "kernelspec": {
   "display_name": "Python 3 (ipykernel)",
   "language": "python",
   "name": "python3"
  },
  "language_info": {
   "codemirror_mode": {
    "name": "ipython",
    "version": 3
   },
   "file_extension": ".py",
   "mimetype": "text/x-python",
   "name": "python",
   "nbconvert_exporter": "python",
   "pygments_lexer": "ipython3",
   "version": "3.13.5"
  }
 },
 "nbformat": 4,
 "nbformat_minor": 5
}
